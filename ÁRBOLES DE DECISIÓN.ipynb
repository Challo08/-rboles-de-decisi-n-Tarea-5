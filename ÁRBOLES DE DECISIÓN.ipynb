{
 "cells": [
  {
   "cell_type": "markdown",
   "id": "449ebe44",
   "metadata": {},
   "source": [
    "# Árboles de Decicsión"
   ]
  },
  {
   "cell_type": "code",
   "execution_count": 135,
   "id": "aa4ed052",
   "metadata": {},
   "outputs": [],
   "source": [
    "import pandas as pd\n",
    "import numpy as np\n",
    "import os\n",
    "import matplotlib.pyplot as plt\n",
    "from sklearn.model_selection import train_test_split\n",
    "from sklearn.tree import DecisionTreeClassifier, plot_tree\n",
    "from sklearn.metrics import accuracy_score"
   ]
  },
  {
   "cell_type": "code",
   "execution_count": 136,
   "id": "ee2206b0",
   "metadata": {},
   "outputs": [
    {
     "data": {
      "text/html": [
       "<div>\n",
       "<style scoped>\n",
       "    .dataframe tbody tr th:only-of-type {\n",
       "        vertical-align: middle;\n",
       "    }\n",
       "\n",
       "    .dataframe tbody tr th {\n",
       "        vertical-align: top;\n",
       "    }\n",
       "\n",
       "    .dataframe thead th {\n",
       "        text-align: right;\n",
       "    }\n",
       "</style>\n",
       "<table border=\"1\" class=\"dataframe\">\n",
       "  <thead>\n",
       "    <tr style=\"text-align: right;\">\n",
       "      <th></th>\n",
       "      <th>Clase</th>\n",
       "      <th>Alcohol</th>\n",
       "      <th>Acido Malico</th>\n",
       "      <th>Ceniza</th>\n",
       "      <th>Alcalinidad</th>\n",
       "      <th>Magnesio</th>\n",
       "      <th>Fenoles Totales</th>\n",
       "      <th>Flavonoides</th>\n",
       "      <th>Fenoles No Flavonoides</th>\n",
       "      <th>Proantocianidinas</th>\n",
       "      <th>Intensidad Del Color</th>\n",
       "      <th>Matiz</th>\n",
       "      <th>Vinos Diluidos</th>\n",
       "      <th>Prolina</th>\n",
       "    </tr>\n",
       "  </thead>\n",
       "  <tbody>\n",
       "    <tr>\n",
       "      <th>0</th>\n",
       "      <td>Clase1</td>\n",
       "      <td>14.23</td>\n",
       "      <td>1.71</td>\n",
       "      <td>2.43</td>\n",
       "      <td>15.6</td>\n",
       "      <td>127</td>\n",
       "      <td>2.80</td>\n",
       "      <td>3.06</td>\n",
       "      <td>0.28</td>\n",
       "      <td>2.29</td>\n",
       "      <td>5.64</td>\n",
       "      <td>1.04</td>\n",
       "      <td>3.92</td>\n",
       "      <td>1065</td>\n",
       "    </tr>\n",
       "    <tr>\n",
       "      <th>1</th>\n",
       "      <td>Clase1</td>\n",
       "      <td>13.20</td>\n",
       "      <td>1.78</td>\n",
       "      <td>2.14</td>\n",
       "      <td>11.2</td>\n",
       "      <td>100</td>\n",
       "      <td>2.65</td>\n",
       "      <td>2.76</td>\n",
       "      <td>0.26</td>\n",
       "      <td>1.28</td>\n",
       "      <td>4.38</td>\n",
       "      <td>1.05</td>\n",
       "      <td>3.40</td>\n",
       "      <td>1050</td>\n",
       "    </tr>\n",
       "    <tr>\n",
       "      <th>2</th>\n",
       "      <td>Clase1</td>\n",
       "      <td>13.16</td>\n",
       "      <td>2.36</td>\n",
       "      <td>2.67</td>\n",
       "      <td>18.6</td>\n",
       "      <td>101</td>\n",
       "      <td>2.80</td>\n",
       "      <td>3.24</td>\n",
       "      <td>0.30</td>\n",
       "      <td>2.81</td>\n",
       "      <td>5.68</td>\n",
       "      <td>1.03</td>\n",
       "      <td>3.17</td>\n",
       "      <td>1185</td>\n",
       "    </tr>\n",
       "    <tr>\n",
       "      <th>3</th>\n",
       "      <td>Clase1</td>\n",
       "      <td>14.37</td>\n",
       "      <td>1.95</td>\n",
       "      <td>2.50</td>\n",
       "      <td>16.8</td>\n",
       "      <td>113</td>\n",
       "      <td>3.85</td>\n",
       "      <td>3.49</td>\n",
       "      <td>0.24</td>\n",
       "      <td>2.18</td>\n",
       "      <td>7.80</td>\n",
       "      <td>0.86</td>\n",
       "      <td>3.45</td>\n",
       "      <td>1480</td>\n",
       "    </tr>\n",
       "    <tr>\n",
       "      <th>4</th>\n",
       "      <td>Clase1</td>\n",
       "      <td>13.24</td>\n",
       "      <td>2.59</td>\n",
       "      <td>2.87</td>\n",
       "      <td>21.0</td>\n",
       "      <td>118</td>\n",
       "      <td>2.80</td>\n",
       "      <td>2.69</td>\n",
       "      <td>0.39</td>\n",
       "      <td>1.82</td>\n",
       "      <td>4.32</td>\n",
       "      <td>1.04</td>\n",
       "      <td>2.93</td>\n",
       "      <td>735</td>\n",
       "    </tr>\n",
       "  </tbody>\n",
       "</table>\n",
       "</div>"
      ],
      "text/plain": [
       "    Clase  Alcohol  Acido Malico  Ceniza  Alcalinidad  Magnesio  \\\n",
       "0  Clase1    14.23          1.71    2.43         15.6       127   \n",
       "1  Clase1    13.20          1.78    2.14         11.2       100   \n",
       "2  Clase1    13.16          2.36    2.67         18.6       101   \n",
       "3  Clase1    14.37          1.95    2.50         16.8       113   \n",
       "4  Clase1    13.24          2.59    2.87         21.0       118   \n",
       "\n",
       "   Fenoles Totales  Flavonoides  Fenoles No Flavonoides  Proantocianidinas  \\\n",
       "0             2.80         3.06                    0.28               2.29   \n",
       "1             2.65         2.76                    0.26               1.28   \n",
       "2             2.80         3.24                    0.30               2.81   \n",
       "3             3.85         3.49                    0.24               2.18   \n",
       "4             2.80         2.69                    0.39               1.82   \n",
       "\n",
       "   Intensidad Del Color  Matiz  Vinos Diluidos  Prolina  \n",
       "0                  5.64   1.04            3.92     1065  \n",
       "1                  4.38   1.05            3.40     1050  \n",
       "2                  5.68   1.03            3.17     1185  \n",
       "3                  7.80   0.86            3.45     1480  \n",
       "4                  4.32   1.04            2.93      735  "
      ]
     },
     "execution_count": 136,
     "metadata": {},
     "output_type": "execute_result"
    }
   ],
   "source": [
    "data= pd.read_csv (filepath_or_buffer=\"/Users/fabianpena/Library/CloudStorage/OneDrive-Personal/Escritorio/wine.csv\")\n",
    "data.head()"
   ]
  },
  {
   "cell_type": "code",
   "execution_count": 137,
   "id": "1ef52a0d",
   "metadata": {},
   "outputs": [
    {
     "data": {
      "text/plain": [
       "(178, 14)"
      ]
     },
     "execution_count": 137,
     "metadata": {},
     "output_type": "execute_result"
    }
   ],
   "source": [
    "data.shape"
   ]
  },
  {
   "cell_type": "code",
   "execution_count": 138,
   "id": "af51447f",
   "metadata": {},
   "outputs": [
    {
     "data": {
      "text/html": [
       "<div>\n",
       "<style scoped>\n",
       "    .dataframe tbody tr th:only-of-type {\n",
       "        vertical-align: middle;\n",
       "    }\n",
       "\n",
       "    .dataframe tbody tr th {\n",
       "        vertical-align: top;\n",
       "    }\n",
       "\n",
       "    .dataframe thead th {\n",
       "        text-align: right;\n",
       "    }\n",
       "</style>\n",
       "<table border=\"1\" class=\"dataframe\">\n",
       "  <thead>\n",
       "    <tr style=\"text-align: right;\">\n",
       "      <th></th>\n",
       "      <th>Alcohol</th>\n",
       "      <th>Acido Malico</th>\n",
       "      <th>Ceniza</th>\n",
       "      <th>Alcalinidad</th>\n",
       "      <th>Magnesio</th>\n",
       "      <th>Fenoles Totales</th>\n",
       "      <th>Flavonoides</th>\n",
       "      <th>Fenoles No Flavonoides</th>\n",
       "      <th>Proantocianidinas</th>\n",
       "      <th>Intensidad Del Color</th>\n",
       "      <th>Matiz</th>\n",
       "      <th>Vinos Diluidos</th>\n",
       "      <th>Prolina</th>\n",
       "    </tr>\n",
       "  </thead>\n",
       "  <tbody>\n",
       "    <tr>\n",
       "      <th>count</th>\n",
       "      <td>178.000000</td>\n",
       "      <td>178.000000</td>\n",
       "      <td>178.000000</td>\n",
       "      <td>178.000000</td>\n",
       "      <td>178.000000</td>\n",
       "      <td>178.000000</td>\n",
       "      <td>178.000000</td>\n",
       "      <td>178.000000</td>\n",
       "      <td>178.000000</td>\n",
       "      <td>178.000000</td>\n",
       "      <td>178.000000</td>\n",
       "      <td>178.000000</td>\n",
       "      <td>178.000000</td>\n",
       "    </tr>\n",
       "    <tr>\n",
       "      <th>mean</th>\n",
       "      <td>13.000618</td>\n",
       "      <td>2.336348</td>\n",
       "      <td>2.366517</td>\n",
       "      <td>19.494944</td>\n",
       "      <td>99.741573</td>\n",
       "      <td>2.295112</td>\n",
       "      <td>2.029270</td>\n",
       "      <td>0.361854</td>\n",
       "      <td>1.590899</td>\n",
       "      <td>5.058090</td>\n",
       "      <td>0.957449</td>\n",
       "      <td>2.611685</td>\n",
       "      <td>746.893258</td>\n",
       "    </tr>\n",
       "    <tr>\n",
       "      <th>std</th>\n",
       "      <td>0.811827</td>\n",
       "      <td>1.117146</td>\n",
       "      <td>0.274344</td>\n",
       "      <td>3.339564</td>\n",
       "      <td>14.282484</td>\n",
       "      <td>0.625851</td>\n",
       "      <td>0.998859</td>\n",
       "      <td>0.124453</td>\n",
       "      <td>0.572359</td>\n",
       "      <td>2.318286</td>\n",
       "      <td>0.228572</td>\n",
       "      <td>0.709990</td>\n",
       "      <td>314.907474</td>\n",
       "    </tr>\n",
       "    <tr>\n",
       "      <th>min</th>\n",
       "      <td>11.030000</td>\n",
       "      <td>0.740000</td>\n",
       "      <td>1.360000</td>\n",
       "      <td>10.600000</td>\n",
       "      <td>70.000000</td>\n",
       "      <td>0.980000</td>\n",
       "      <td>0.340000</td>\n",
       "      <td>0.130000</td>\n",
       "      <td>0.410000</td>\n",
       "      <td>1.280000</td>\n",
       "      <td>0.480000</td>\n",
       "      <td>1.270000</td>\n",
       "      <td>278.000000</td>\n",
       "    </tr>\n",
       "    <tr>\n",
       "      <th>25%</th>\n",
       "      <td>12.362500</td>\n",
       "      <td>1.602500</td>\n",
       "      <td>2.210000</td>\n",
       "      <td>17.200000</td>\n",
       "      <td>88.000000</td>\n",
       "      <td>1.742500</td>\n",
       "      <td>1.205000</td>\n",
       "      <td>0.270000</td>\n",
       "      <td>1.250000</td>\n",
       "      <td>3.220000</td>\n",
       "      <td>0.782500</td>\n",
       "      <td>1.937500</td>\n",
       "      <td>500.500000</td>\n",
       "    </tr>\n",
       "    <tr>\n",
       "      <th>50%</th>\n",
       "      <td>13.050000</td>\n",
       "      <td>1.865000</td>\n",
       "      <td>2.360000</td>\n",
       "      <td>19.500000</td>\n",
       "      <td>98.000000</td>\n",
       "      <td>2.355000</td>\n",
       "      <td>2.135000</td>\n",
       "      <td>0.340000</td>\n",
       "      <td>1.555000</td>\n",
       "      <td>4.690000</td>\n",
       "      <td>0.965000</td>\n",
       "      <td>2.780000</td>\n",
       "      <td>673.500000</td>\n",
       "    </tr>\n",
       "    <tr>\n",
       "      <th>75%</th>\n",
       "      <td>13.677500</td>\n",
       "      <td>3.082500</td>\n",
       "      <td>2.557500</td>\n",
       "      <td>21.500000</td>\n",
       "      <td>107.000000</td>\n",
       "      <td>2.800000</td>\n",
       "      <td>2.875000</td>\n",
       "      <td>0.437500</td>\n",
       "      <td>1.950000</td>\n",
       "      <td>6.200000</td>\n",
       "      <td>1.120000</td>\n",
       "      <td>3.170000</td>\n",
       "      <td>985.000000</td>\n",
       "    </tr>\n",
       "    <tr>\n",
       "      <th>max</th>\n",
       "      <td>14.830000</td>\n",
       "      <td>5.800000</td>\n",
       "      <td>3.230000</td>\n",
       "      <td>30.000000</td>\n",
       "      <td>162.000000</td>\n",
       "      <td>3.880000</td>\n",
       "      <td>5.080000</td>\n",
       "      <td>0.660000</td>\n",
       "      <td>3.580000</td>\n",
       "      <td>13.000000</td>\n",
       "      <td>1.710000</td>\n",
       "      <td>4.000000</td>\n",
       "      <td>1680.000000</td>\n",
       "    </tr>\n",
       "  </tbody>\n",
       "</table>\n",
       "</div>"
      ],
      "text/plain": [
       "          Alcohol  Acido Malico      Ceniza  Alcalinidad    Magnesio  \\\n",
       "count  178.000000    178.000000  178.000000   178.000000  178.000000   \n",
       "mean    13.000618      2.336348    2.366517    19.494944   99.741573   \n",
       "std      0.811827      1.117146    0.274344     3.339564   14.282484   \n",
       "min     11.030000      0.740000    1.360000    10.600000   70.000000   \n",
       "25%     12.362500      1.602500    2.210000    17.200000   88.000000   \n",
       "50%     13.050000      1.865000    2.360000    19.500000   98.000000   \n",
       "75%     13.677500      3.082500    2.557500    21.500000  107.000000   \n",
       "max     14.830000      5.800000    3.230000    30.000000  162.000000   \n",
       "\n",
       "       Fenoles Totales  Flavonoides  Fenoles No Flavonoides  \\\n",
       "count       178.000000   178.000000              178.000000   \n",
       "mean          2.295112     2.029270                0.361854   \n",
       "std           0.625851     0.998859                0.124453   \n",
       "min           0.980000     0.340000                0.130000   \n",
       "25%           1.742500     1.205000                0.270000   \n",
       "50%           2.355000     2.135000                0.340000   \n",
       "75%           2.800000     2.875000                0.437500   \n",
       "max           3.880000     5.080000                0.660000   \n",
       "\n",
       "       Proantocianidinas  Intensidad Del Color       Matiz  Vinos Diluidos  \\\n",
       "count         178.000000            178.000000  178.000000      178.000000   \n",
       "mean            1.590899              5.058090    0.957449        2.611685   \n",
       "std             0.572359              2.318286    0.228572        0.709990   \n",
       "min             0.410000              1.280000    0.480000        1.270000   \n",
       "25%             1.250000              3.220000    0.782500        1.937500   \n",
       "50%             1.555000              4.690000    0.965000        2.780000   \n",
       "75%             1.950000              6.200000    1.120000        3.170000   \n",
       "max             3.580000             13.000000    1.710000        4.000000   \n",
       "\n",
       "           Prolina  \n",
       "count   178.000000  \n",
       "mean    746.893258  \n",
       "std     314.907474  \n",
       "min     278.000000  \n",
       "25%     500.500000  \n",
       "50%     673.500000  \n",
       "75%     985.000000  \n",
       "max    1680.000000  "
      ]
     },
     "execution_count": 138,
     "metadata": {},
     "output_type": "execute_result"
    }
   ],
   "source": [
    "data.describe()"
   ]
  },
  {
   "cell_type": "code",
   "execution_count": 139,
   "id": "f4d44d0e",
   "metadata": {},
   "outputs": [
    {
     "data": {
      "text/plain": [
       "(array([59.,  0.,  0.,  0.,  0., 71.,  0.,  0.,  0., 48.]),\n",
       " array([0. , 0.2, 0.4, 0.6, 0.8, 1. , 1.2, 1.4, 1.6, 1.8, 2. ]),\n",
       " <BarContainer object of 10 artists>)"
      ]
     },
     "execution_count": 139,
     "metadata": {},
     "output_type": "execute_result"
    },
    {
     "data": {
      "image/png": "[encoded data removed]",
      "text/plain": [
       "<Figure size 640x480 with 1 Axes>"
      ]
     },
     "metadata": {},
     "output_type": "display_data"
    }
   ],
   "source": [
    "plt.hist(data.Clase)"
   ]
  },
  {
   "cell_type": "code",
   "execution_count": 140,
   "id": "d40d65d0",
   "metadata": {},
   "outputs": [],
   "source": [
    "predictors_col=[\"Alcohol\",\"Acido Malico\",\"Ceniza\",\"Magnesio\",\"Fenoles Totales\",\"Flavonoides\",\"Fenoles No Flavonoides\",\"Proantocianidinas\",\"Intensidad Del Color\",\"Matiz\",\"Vinos Diluidos\",\"Prolina\"]\n",
    "target_col=['Clase']"
   ]
  },
  {
   "cell_type": "code",
   "execution_count": 141,
   "id": "37c52463",
   "metadata": {},
   "outputs": [],
   "source": [
    "predictors=data[predictors_col]\n",
    "target=data[target_col]"
   ]
  },
  {
   "cell_type": "code",
   "execution_count": 230,
   "id": "99b6a65b",
   "metadata": {},
   "outputs": [],
   "source": [
    "X_train, X_test, y_train, y_test =train_test_split(predictors, target, test_size=0.22, random_state=13)"
   ]
  },
  {
   "cell_type": "code",
   "execution_count": 231,
   "id": "5e9ad8f1",
   "metadata": {},
   "outputs": [],
   "source": [
    "tree=DecisionTreeClassifier()"
   ]
  },
  {
   "cell_type": "code",
   "execution_count": 232,
   "id": "f66ef53c",
   "metadata": {},
   "outputs": [],
   "source": [
    "arbol=tree.fit(X_train, y_train)"
   ]
  },
  {
   "cell_type": "code",
   "execution_count": 233,
   "id": "8d908daf",
   "metadata": {},
   "outputs": [
    {
     "data": {
      "text/plain": [
       "[Text(0.5, 0.9166666666666666, 'x[11] <= 727.5\\ngini = 0.658\\nsamples = 138\\nvalue = [46, 55, 37]'),\n",
       " Text(0.25, 0.75, 'x[5] <= 1.235\\ngini = 0.479\\nsamples = 82\\nvalue = [1, 51, 30]'),\n",
       " Text(0.125, 0.5833333333333334, 'x[8] <= 3.56\\ngini = 0.18\\nsamples = 30\\nvalue = [0, 3, 27]'),\n",
       " Text(0.0625, 0.4166666666666667, 'gini = 0.0\\nsamples = 3\\nvalue = [0, 3, 0]'),\n",
       " Text(0.1875, 0.4166666666666667, 'gini = 0.0\\nsamples = 27\\nvalue = [0, 0, 27]'),\n",
       " Text(0.375, 0.5833333333333334, 'x[9] <= 0.63\\ngini = 0.144\\nsamples = 52\\nvalue = [1, 48, 3]'),\n",
       " Text(0.3125, 0.4166666666666667, 'gini = 0.0\\nsamples = 3\\nvalue = [0, 0, 3]'),\n",
       " Text(0.4375, 0.4166666666666667, 'x[0] <= 13.175\\ngini = 0.04\\nsamples = 49\\nvalue = [1, 48, 0]'),\n",
       " Text(0.375, 0.25, 'gini = 0.0\\nsamples = 45\\nvalue = [0, 45, 0]'),\n",
       " Text(0.5, 0.25, 'x[9] <= 0.9\\ngini = 0.375\\nsamples = 4\\nvalue = [1, 3, 0]'),\n",
       " Text(0.4375, 0.08333333333333333, 'gini = 0.0\\nsamples = 1\\nvalue = [1, 0, 0]'),\n",
       " Text(0.5625, 0.08333333333333333, 'gini = 0.0\\nsamples = 3\\nvalue = [0, 3, 0]'),\n",
       " Text(0.75, 0.75, 'x[5] <= 2.165\\ngini = 0.334\\nsamples = 56\\nvalue = [45, 4, 7]'),\n",
       " Text(0.625, 0.5833333333333334, 'x[1] <= 2.085\\ngini = 0.346\\nsamples = 9\\nvalue = [0, 2, 7]'),\n",
       " Text(0.5625, 0.4166666666666667, 'gini = 0.0\\nsamples = 2\\nvalue = [0, 2, 0]'),\n",
       " Text(0.6875, 0.4166666666666667, 'gini = 0.0\\nsamples = 7\\nvalue = [0, 0, 7]'),\n",
       " Text(0.875, 0.5833333333333334, 'x[3] <= 133.5\\ngini = 0.081\\nsamples = 47\\nvalue = [45, 2, 0]'),\n",
       " Text(0.8125, 0.4166666666666667, 'gini = 0.0\\nsamples = 45\\nvalue = [45, 0, 0]'),\n",
       " Text(0.9375, 0.4166666666666667, 'gini = 0.0\\nsamples = 2\\nvalue = [0, 2, 0]')]"
      ]
     },
     "execution_count": 233,
     "metadata": {},
     "output_type": "execute_result"
    },
    {
     "data": {
      "image/png": "[encoded data removed]",
      "text/plain": [
       "<Figure size 640x480 with 1 Axes>"
      ]
     },
     "metadata": {},
     "output_type": "display_data"
    }
   ],
   "source": [
    "plot_tree(arbol)"
   ]
  },
  {
   "cell_type": "code",
   "execution_count": 234,
   "id": "43106e22",
   "metadata": {},
   "outputs": [],
   "source": [
    "predicciones=arbol.predict(X_test)"
   ]
  },
  {
   "cell_type": "code",
   "execution_count": 235,
   "id": "9b945497",
   "metadata": {},
   "outputs": [
    {
     "data": {
      "text/html": [
       "<div>\n",
       "<style scoped>\n",
       "    .dataframe tbody tr th:only-of-type {\n",
       "        vertical-align: middle;\n",
       "    }\n",
       "\n",
       "    .dataframe tbody tr th {\n",
       "        vertical-align: top;\n",
       "    }\n",
       "\n",
       "    .dataframe thead th {\n",
       "        text-align: right;\n",
       "    }\n",
       "</style>\n",
       "<table border=\"1\" class=\"dataframe\">\n",
       "  <thead>\n",
       "    <tr style=\"text-align: right;\">\n",
       "      <th>Predicciones</th>\n",
       "      <th>Clase1</th>\n",
       "      <th>Clase2</th>\n",
       "      <th>Clase3</th>\n",
       "    </tr>\n",
       "    <tr>\n",
       "      <th>Actual</th>\n",
       "      <th></th>\n",
       "      <th></th>\n",
       "      <th></th>\n",
       "    </tr>\n",
       "  </thead>\n",
       "  <tbody>\n",
       "    <tr>\n",
       "      <th>Clase1</th>\n",
       "      <td>13</td>\n",
       "      <td>0</td>\n",
       "      <td>0</td>\n",
       "    </tr>\n",
       "    <tr>\n",
       "      <th>Clase2</th>\n",
       "      <td>0</td>\n",
       "      <td>16</td>\n",
       "      <td>0</td>\n",
       "    </tr>\n",
       "    <tr>\n",
       "      <th>Clase3</th>\n",
       "      <td>0</td>\n",
       "      <td>1</td>\n",
       "      <td>10</td>\n",
       "    </tr>\n",
       "  </tbody>\n",
       "</table>\n",
       "</div>"
      ],
      "text/plain": [
       "Predicciones  Clase1  Clase2  Clase3\n",
       "Actual                              \n",
       "Clase1            13       0       0\n",
       "Clase2             0      16       0\n",
       "Clase3             0       1      10"
      ]
     },
     "execution_count": 235,
     "metadata": {},
     "output_type": "execute_result"
    }
   ],
   "source": [
    "pd.crosstab(np.array([y[0] for y in y_test.values.tolist()]),predicciones, rownames=['Actual'],colnames=['Predicciones'])"
   ]
  },
  {
   "cell_type": "code",
   "execution_count": 236,
   "id": "4c094ccc",
   "metadata": {},
   "outputs": [
    {
     "data": {
      "text/plain": [
       "0.975"
      ]
     },
     "execution_count": 236,
     "metadata": {},
     "output_type": "execute_result"
    }
   ],
   "source": [
    "accuracy=accuracy_score(y_test,predicciones)\n",
    "accuracy"
   ]
  },
  {
   "cell_type": "code",
   "execution_count": null,
   "id": "011fe7b7",
   "metadata": {},
   "outputs": [],
   "source": []
  }
 ],
 "metadata": {
  "kernelspec": {
   "display_name": "Python 3 (ipykernel)",
   "language": "python",
   "name": "python3"
  },
  "language_info": {
   "codemirror_mode": {
    "name": "ipython",
    "version": 3
   },
   "file_extension": ".py",
   "mimetype": "text/x-python",
   "name": "python",
   "nbconvert_exporter": "python",
   "pygments_lexer": "ipython3",
   "version": "3.11.4"
  }
 },
 "nbformat": 4,
 "nbformat_minor": 5
}
